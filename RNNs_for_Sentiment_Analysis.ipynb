{
  "cells": [
    {
      "cell_type": "markdown",
      "id": "8e54bc99",
      "metadata": {
        "id": "8e54bc99"
      },
      "source": [
        "# Recurrent Neural Networks for Sentiment Analysis"
      ]
    },
    {
      "cell_type": "markdown",
      "id": "6dda86a7",
      "metadata": {
        "id": "6dda86a7"
      },
      "source": [
        "An RNN is a type of artificial neural network used for sequence modelling. RNNs include recursive components in their structure; and hence, the name comes Recurrent Neural Networks. These sort of NNs work very well in modelling sequences. As text is also a from of sequence, we will use RNNs to classify IMDB reviews into positive/negative classes. "
      ]
    },
    {
      "cell_type": "markdown",
      "id": "1f865108",
      "metadata": {
        "id": "1f865108"
      },
      "source": [
        "<img src=\"data:image/png;base64,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\">"
      ]
    },
    {
      "cell_type": "code",
      "execution_count": null,
      "id": "26944371",
      "metadata": {
        "id": "26944371"
      },
      "outputs": [],
      "source": []
    },
    {
      "cell_type": "markdown",
      "id": "5a18d05b",
      "metadata": {
        "id": "5a18d05b"
      },
      "source": [
        "## Overview:\n",
        "1. Preparing the data\n",
        "    * Creating tf dataset\n",
        "    * Finding unique tokens\n",
        "    * Encoding unique words\n",
        "    * Divide the dataset into mini-batches\n",
        "2. Embedding layers\n",
        "3. LSTM\n",
        "4. Building an RNN model\n",
        "5. Training and evaluation\n",
        "6. Define a Custom function for building RNNs with different architectures"
      ]
    },
    {
      "cell_type": "code",
      "execution_count": null,
      "id": "1e9c7af3",
      "metadata": {
        "id": "1e9c7af3"
      },
      "outputs": [],
      "source": []
    },
    {
      "cell_type": "markdown",
      "id": "8f5aa871",
      "metadata": {
        "id": "8f5aa871"
      },
      "source": [
        "## Data Preparation"
      ]
    },
    {
      "cell_type": "markdown",
      "id": "f0b97943",
      "metadata": {
        "id": "f0b97943"
      },
      "source": [
        "The dataset we are going to work with is stored in a csv file. Lets go ahead and read it as a pandas dataframe."
      ]
    },
    {
      "cell_type": "code",
      "execution_count": 1,
      "id": "e70d180a",
      "metadata": {
        "id": "e70d180a"
      },
      "outputs": [],
      "source": [
        "import numpy as np\n",
        "import pandas as pd\n",
        "import matplotlib.pyplot as plt\n",
        "%matplotlib inline\n",
        "\n",
        "import tensorflow as tf"
      ]
    },
    {
      "cell_type": "code",
      "execution_count": 2,
      "id": "0b061ad1",
      "metadata": {
        "id": "0b061ad1"
      },
      "outputs": [],
      "source": [
        "df = pd.read_csv(\"movie_data.csv\", encoding=\"utf-8\")"
      ]
    },
    {
      "cell_type": "code",
      "execution_count": 3,
      "id": "43d7f2e6",
      "metadata": {
        "colab": {
          "base_uri": "https://localhost:8080/",
          "height": 204
        },
        "id": "43d7f2e6",
        "outputId": "98397bfc-7adc-44e6-fe60-0263d30dc857"
      },
      "outputs": [
        {
          "output_type": "execute_result",
          "data": {
            "text/plain": [
              "                                              review  sentiment\n",
              "0  Often tagged as a comedy, The Man In The White...          1\n",
              "1  After Chaplin made one of his best films: Doug...          0\n",
              "2  I think the movie was one sided I watched it r...          0\n",
              "3  I have fond memories of watching this visually...          1\n",
              "4  This episode had potential. The basic premise ...          0"
            ],
            "text/html": [
              "\n",
              "  <div id=\"df-14ae79df-44fe-4079-a8e7-888bace23315\">\n",
              "    <div class=\"colab-df-container\">\n",
              "      <div>\n",
              "<style scoped>\n",
              "    .dataframe tbody tr th:only-of-type {\n",
              "        vertical-align: middle;\n",
              "    }\n",
              "\n",
              "    .dataframe tbody tr th {\n",
              "        vertical-align: top;\n",
              "    }\n",
              "\n",
              "    .dataframe thead th {\n",
              "        text-align: right;\n",
              "    }\n",
              "</style>\n",
              "<table border=\"1\" class=\"dataframe\">\n",
              "  <thead>\n",
              "    <tr style=\"text-align: right;\">\n",
              "      <th></th>\n",
              "      <th>review</th>\n",
              "      <th>sentiment</th>\n",
              "    </tr>\n",
              "  </thead>\n",
              "  <tbody>\n",
              "    <tr>\n",
              "      <th>0</th>\n",
              "      <td>Often tagged as a comedy, The Man In The White...</td>\n",
              "      <td>1</td>\n",
              "    </tr>\n",
              "    <tr>\n",
              "      <th>1</th>\n",
              "      <td>After Chaplin made one of his best films: Doug...</td>\n",
              "      <td>0</td>\n",
              "    </tr>\n",
              "    <tr>\n",
              "      <th>2</th>\n",
              "      <td>I think the movie was one sided I watched it r...</td>\n",
              "      <td>0</td>\n",
              "    </tr>\n",
              "    <tr>\n",
              "      <th>3</th>\n",
              "      <td>I have fond memories of watching this visually...</td>\n",
              "      <td>1</td>\n",
              "    </tr>\n",
              "    <tr>\n",
              "      <th>4</th>\n",
              "      <td>This episode had potential. The basic premise ...</td>\n",
              "      <td>0</td>\n",
              "    </tr>\n",
              "  </tbody>\n",
              "</table>\n",
              "</div>\n",
              "      <button class=\"colab-df-convert\" onclick=\"convertToInteractive('df-14ae79df-44fe-4079-a8e7-888bace23315')\"\n",
              "              title=\"Convert this dataframe to an interactive table.\"\n",
              "              style=\"display:none;\">\n",
              "        \n",
              "  <svg xmlns=\"http://www.w3.org/2000/svg\" height=\"24px\"viewBox=\"0 0 24 24\"\n",
              "       width=\"24px\">\n",
              "    <path d=\"M0 0h24v24H0V0z\" fill=\"none\"/>\n",
              "    <path d=\"M18.56 5.44l.94 2.06.94-2.06 2.06-.94-2.06-.94-.94-2.06-.94 2.06-2.06.94zm-11 1L8.5 8.5l.94-2.06 2.06-.94-2.06-.94L8.5 2.5l-.94 2.06-2.06.94zm10 10l.94 2.06.94-2.06 2.06-.94-2.06-.94-.94-2.06-.94 2.06-2.06.94z\"/><path d=\"M17.41 7.96l-1.37-1.37c-.4-.4-.92-.59-1.43-.59-.52 0-1.04.2-1.43.59L10.3 9.45l-7.72 7.72c-.78.78-.78 2.05 0 2.83L4 21.41c.39.39.9.59 1.41.59.51 0 1.02-.2 1.41-.59l7.78-7.78 2.81-2.81c.8-.78.8-2.07 0-2.86zM5.41 20L4 18.59l7.72-7.72 1.47 1.35L5.41 20z\"/>\n",
              "  </svg>\n",
              "      </button>\n",
              "      \n",
              "  <style>\n",
              "    .colab-df-container {\n",
              "      display:flex;\n",
              "      flex-wrap:wrap;\n",
              "      gap: 12px;\n",
              "    }\n",
              "\n",
              "    .colab-df-convert {\n",
              "      background-color: #E8F0FE;\n",
              "      border: none;\n",
              "      border-radius: 50%;\n",
              "      cursor: pointer;\n",
              "      display: none;\n",
              "      fill: #1967D2;\n",
              "      height: 32px;\n",
              "      padding: 0 0 0 0;\n",
              "      width: 32px;\n",
              "    }\n",
              "\n",
              "    .colab-df-convert:hover {\n",
              "      background-color: #E2EBFA;\n",
              "      box-shadow: 0px 1px 2px rgba(60, 64, 67, 0.3), 0px 1px 3px 1px rgba(60, 64, 67, 0.15);\n",
              "      fill: #174EA6;\n",
              "    }\n",
              "\n",
              "    [theme=dark] .colab-df-convert {\n",
              "      background-color: #3B4455;\n",
              "      fill: #D2E3FC;\n",
              "    }\n",
              "\n",
              "    [theme=dark] .colab-df-convert:hover {\n",
              "      background-color: #434B5C;\n",
              "      box-shadow: 0px 1px 3px 1px rgba(0, 0, 0, 0.15);\n",
              "      filter: drop-shadow(0px 1px 2px rgba(0, 0, 0, 0.3));\n",
              "      fill: #FFFFFF;\n",
              "    }\n",
              "  </style>\n",
              "\n",
              "      <script>\n",
              "        const buttonEl =\n",
              "          document.querySelector('#df-14ae79df-44fe-4079-a8e7-888bace23315 button.colab-df-convert');\n",
              "        buttonEl.style.display =\n",
              "          google.colab.kernel.accessAllowed ? 'block' : 'none';\n",
              "\n",
              "        async function convertToInteractive(key) {\n",
              "          const element = document.querySelector('#df-14ae79df-44fe-4079-a8e7-888bace23315');\n",
              "          const dataTable =\n",
              "            await google.colab.kernel.invokeFunction('convertToInteractive',\n",
              "                                                     [key], {});\n",
              "          if (!dataTable) return;\n",
              "\n",
              "          const docLinkHtml = 'Like what you see? Visit the ' +\n",
              "            '<a target=\"_blank\" href=https://colab.research.google.com/notebooks/data_table.ipynb>data table notebook</a>'\n",
              "            + ' to learn more about interactive tables.';\n",
              "          element.innerHTML = '';\n",
              "          dataTable['output_type'] = 'display_data';\n",
              "          await google.colab.output.renderOutput(dataTable, element);\n",
              "          const docLink = document.createElement('div');\n",
              "          docLink.innerHTML = docLinkHtml;\n",
              "          element.appendChild(docLink);\n",
              "        }\n",
              "      </script>\n",
              "    </div>\n",
              "  </div>\n",
              "  "
            ]
          },
          "metadata": {},
          "execution_count": 3
        }
      ],
      "source": [
        "df.head()"
      ]
    },
    {
      "cell_type": "code",
      "execution_count": 4,
      "id": "f471c1da",
      "metadata": {
        "colab": {
          "base_uri": "https://localhost:8080/"
        },
        "id": "f471c1da",
        "outputId": "63911ae8-3005-4177-bec5-6c2822663fb7"
      },
      "outputs": [
        {
          "output_type": "execute_result",
          "data": {
            "text/plain": [
              "(50000, 2)"
            ]
          },
          "metadata": {},
          "execution_count": 4
        }
      ],
      "source": [
        "df.shape"
      ]
    },
    {
      "cell_type": "code",
      "execution_count": 4,
      "id": "25bf8685",
      "metadata": {
        "id": "25bf8685"
      },
      "outputs": [],
      "source": []
    },
    {
      "cell_type": "markdown",
      "id": "29e33ac9",
      "metadata": {
        "id": "29e33ac9"
      },
      "source": [
        "### 1. Create tf dataset"
      ]
    },
    {
      "cell_type": "markdown",
      "id": "389b3934",
      "metadata": {
        "id": "389b3934"
      },
      "source": [
        "Our dataset contains 50k reviews labelled as positive or negative. Next, lets convert this dataframe into tensorflow dataset for efficiency purposes."
      ]
    },
    {
      "cell_type": "code",
      "execution_count": 5,
      "id": "72bffa4d",
      "metadata": {
        "id": "72bffa4d"
      },
      "outputs": [],
      "source": [
        "target = df.pop('sentiment')\n",
        "\n",
        "ds = tf.data.Dataset.from_tensor_slices(\n",
        "    (df.values, target.values))\n"
      ]
    },
    {
      "cell_type": "code",
      "execution_count": 6,
      "id": "8397cd16",
      "metadata": {
        "id": "8397cd16"
      },
      "outputs": [],
      "source": [
        "# ds = tf.data.Dataset.from_tensor_slices((df[\"review\"].values, df[\"sentiment\"].values))"
      ]
    },
    {
      "cell_type": "code",
      "execution_count": 7,
      "id": "41ce8e88",
      "metadata": {
        "colab": {
          "base_uri": "https://localhost:8080/"
        },
        "id": "41ce8e88",
        "outputId": "352866e1-a199-4cf9-8363-ab1be23a4f61"
      },
      "outputs": [
        {
          "output_type": "stream",
          "name": "stdout",
          "text": [
            "Review: [b\"Often tagged as a comedy, The Man In The White Suit is laying out far more than a chuckle here and there.<br /><br />Sidney Stratton is an eccentric inventor who isn't getting the chances to flourish his inventions on the world because nobody pays him notice, he merely is the odd ball odd job man about the place as it were. After bluffing his way into Birnley's textile mill, he uses their laboratory to achieve his goal of inventing a fabric that not only never wears out, but also never needs to be cleaned!. He is at first proclaimed a genius and those who ignored him at first suddenly want a big piece of him, but then the doom portents of an industry going bust rears its head and acclaim quickly turns to something far more scary.<br /><br />Yes the film is very funny, in fact some scenes are dam hilarious, but it's the satirical edge to the film that lifts it way above the ordinary to me. The contradictions about the advent of technology is a crucial theme here, do we want inventions that save us fortunes whilst closing down industries ?, you only have to see what happened to the coal industry in Britain to know what I'm on about. The decade the film was made is a crucial point to note, the making of nuclear weapons became more than just hearsay, science was advancing to frighteningly new proportions. You watch this film and see the quick turnaround of events for the main protagonist Stanley, from hero to enemy in one foul swoop, a victim of his own pursuit to better mankind !, it's so dark the film should of been called The Man In The Black Suit.<br /><br />I honestly can't find anything wrong in this film, the script from Roger MacDougall, John Dighton, and director Alex Mackendrick could be filmed today and it wouldn't be out of place such is the sharpness and thought of mind it has. The sound and setting is tremendous, the direction is seamless, with the tonal shift adroitly handled by Mackendrick. Some of the scenes are just wonderful, one in particular tugs on the heart strings and brings one to think of a certain scene in David Lynch's Elephant Man some 29 years later, and yet after such a downturn of events the film still manages to take a wink as the genius that is Alec Guinness gets to close out the film to keep the viewers pondering not only the future of Stanley, but also the rest of us in this rapidly advancing world.<br /><br />A timeless masterpiece, thematically and as a piece of art, 10/10.\"]\n",
            "Sentiment: 1\n"
          ]
        }
      ],
      "source": [
        "for ex in ds.take(1):\n",
        "    print(f\"Review: {ex[0].numpy()}\")\n",
        "    print(f\"Sentiment: {ex[1].numpy()}\")"
      ]
    },
    {
      "cell_type": "code",
      "execution_count": 7,
      "id": "be61eee7",
      "metadata": {
        "id": "be61eee7"
      },
      "outputs": [],
      "source": []
    },
    {
      "cell_type": "markdown",
      "id": "5bb3983f",
      "metadata": {
        "id": "5bb3983f"
      },
      "source": [
        "Next, lets split the dataset into training, validation, and testing datasets. We will save 25000 reviews for testing and split the rest into 20000 training and 5000 validation examples."
      ]
    },
    {
      "cell_type": "code",
      "execution_count": 8,
      "id": "7922eee9",
      "metadata": {
        "id": "7922eee9"
      },
      "outputs": [],
      "source": [
        "ds = ds.shuffle(50000, reshuffle_each_iteration=False)\n",
        "\n",
        "ds_test = ds.take(25000)\n",
        "ds = ds.skip(25000)\n",
        "\n",
        "ds_train = ds.take(20000)\n",
        "ds = ds.skip(20000)\n",
        "\n",
        "ds_valid = ds.take(5000)"
      ]
    },
    {
      "cell_type": "code",
      "execution_count": 8,
      "id": "2a1898ad",
      "metadata": {
        "id": "2a1898ad"
      },
      "outputs": [],
      "source": []
    },
    {
      "cell_type": "markdown",
      "id": "a31c4442",
      "metadata": {
        "id": "a31c4442"
      },
      "source": [
        "### 2. Find unique tokens"
      ]
    },
    {
      "cell_type": "markdown",
      "id": "28a23d86",
      "metadata": {
        "id": "28a23d86"
      },
      "source": [
        "Strings or characters as an input is not the best way to feed to a machine learning model. Therefore, we need to find a way to convert the reviews into integers or some sort of representation that our machine can work with more efficiently. One such technique is tokenization. Here, first we gonna find unique tokens and then we will encode them into mathematical representation. Lets go ahead and do it. "
      ]
    },
    {
      "cell_type": "code",
      "execution_count": 9,
      "id": "c8999753",
      "metadata": {
        "id": "c8999753"
      },
      "outputs": [],
      "source": [
        "import tensorflow_datasets as tfds\n",
        "tokenizer = tfds.deprecated.text.Tokenizer()\n",
        "\n",
        "from collections import Counter\n",
        "counter = Counter()\n",
        "\n",
        "for ex in ds_train:\n",
        "    tokens = tokenizer.tokenize(ex[0].numpy()[0])\n",
        "    counter.update(tokens)"
      ]
    },
    {
      "cell_type": "code",
      "execution_count": 10,
      "id": "3c861672",
      "metadata": {
        "colab": {
          "base_uri": "https://localhost:8080/"
        },
        "id": "3c861672",
        "outputId": "248f0063-3138-450e-de79-849819499cbc"
      },
      "outputs": [
        {
          "output_type": "execute_result",
          "data": {
            "text/plain": [
              "87363"
            ]
          },
          "metadata": {},
          "execution_count": 10
        }
      ],
      "source": [
        "len(counter)"
      ]
    },
    {
      "cell_type": "code",
      "execution_count": 10,
      "id": "2674de1b",
      "metadata": {
        "id": "2674de1b"
      },
      "outputs": [],
      "source": []
    },
    {
      "cell_type": "markdown",
      "id": "682edf6e",
      "metadata": {
        "id": "682edf6e"
      },
      "source": [
        "### 3. Encode unique words"
      ]
    },
    {
      "cell_type": "code",
      "execution_count": 11,
      "id": "0a7be3ba",
      "metadata": {
        "id": "0a7be3ba"
      },
      "outputs": [],
      "source": [
        "encoder = tfds.deprecated.text.TokenTextEncoder(counter)"
      ]
    },
    {
      "cell_type": "code",
      "execution_count": 12,
      "id": "d48a9799",
      "metadata": {
        "colab": {
          "base_uri": "https://localhost:8080/"
        },
        "id": "d48a9799",
        "outputId": "a7a1b42f-c093-4a97-9a53-3b396b516bf3"
      },
      "outputs": [
        {
          "output_type": "stream",
          "name": "stdout",
          "text": [
            "[208, 9, 10, 1441]\n"
          ]
        }
      ],
      "source": [
        "example = \"This is an example.\"\n",
        "print(encoder.encode(example))"
      ]
    },
    {
      "cell_type": "markdown",
      "id": "cb366118",
      "metadata": {
        "id": "cb366118"
      },
      "source": [
        "Next, lets transform the each text in the datatset accordingly."
      ]
    },
    {
      "cell_type": "code",
      "execution_count": 13,
      "id": "ed91855a",
      "metadata": {
        "id": "ed91855a"
      },
      "outputs": [],
      "source": [
        "def encode(text_tensor, label):\n",
        "    text = text_tensor.numpy()[0]\n",
        "    encoded_text = encoder.encode(text)\n",
        "    \n",
        "    return encoded_text, label\n",
        "\n",
        "\n",
        "def encode_map_fn(text, label):\n",
        "    return tf.py_function(encode, inp = [text, label], Tout = (tf.int64, tf.int64))"
      ]
    },
    {
      "cell_type": "code",
      "execution_count": 14,
      "id": "fab4e6d1",
      "metadata": {
        "id": "fab4e6d1"
      },
      "outputs": [],
      "source": [
        "# mapping\n",
        "ds_train = ds_train.map(encode_map_fn)\n",
        "ds_valid = ds_valid.map(encode_map_fn)\n",
        "ds_test = ds_test.map(encode_map_fn)"
      ]
    },
    {
      "cell_type": "code",
      "execution_count": 14,
      "id": "82563211",
      "metadata": {
        "id": "82563211"
      },
      "outputs": [],
      "source": []
    },
    {
      "cell_type": "markdown",
      "id": "1e96ea69",
      "metadata": {
        "id": "1e96ea69"
      },
      "source": [
        "### 4. Split the data into mini-batches"
      ]
    },
    {
      "cell_type": "markdown",
      "id": "177fd719",
      "metadata": {
        "id": "177fd719"
      },
      "source": [
        "So far we have converted the sequence of words into integers. However, there is one big problem that is all the sequences are of different length. One solution is to use padded_batch which pads the sequences in a batch to match the length of the longest sequence found. "
      ]
    },
    {
      "cell_type": "code",
      "execution_count": 15,
      "id": "eb9675f8",
      "metadata": {
        "id": "eb9675f8"
      },
      "outputs": [],
      "source": [
        "train_data = ds_train.padded_batch(32, padded_shapes=([-1],[]))\n",
        "valid_data = ds_valid.padded_batch(32, padded_shapes=([-1],[]))\n",
        "test_data = ds_test.padded_batch(32, padded_shapes=([-1],[]))"
      ]
    },
    {
      "cell_type": "code",
      "execution_count": 15,
      "id": "66cf50ed",
      "metadata": {
        "id": "66cf50ed"
      },
      "outputs": [],
      "source": []
    },
    {
      "cell_type": "code",
      "execution_count": 15,
      "id": "81a422db",
      "metadata": {
        "id": "81a422db"
      },
      "outputs": [],
      "source": []
    },
    {
      "cell_type": "markdown",
      "id": "3a680377",
      "metadata": {
        "id": "3a680377"
      },
      "source": [
        "## Embedding Layers"
      ]
    },
    {
      "cell_type": "markdown",
      "id": "604c411b",
      "metadata": {
        "id": "604c411b"
      },
      "source": [
        "As we can see that we have more than 87,000 unique words, which will also be the number of our input features, a model trained on such features may suffer from curse of dimensionality. Here, the embedding layers come into play. Not only embedding helps reducing dimensionality but also capable of learning salient features (beacuse embedding layer can be optimized)."
      ]
    },
    {
      "cell_type": "code",
      "execution_count": 16,
      "id": "270bafc2",
      "metadata": {
        "colab": {
          "base_uri": "https://localhost:8080/"
        },
        "id": "270bafc2",
        "outputId": "626822cc-09d8-4726-8c01-b84072e7ad34"
      },
      "outputs": [
        {
          "output_type": "stream",
          "name": "stdout",
          "text": [
            "Model: \"sequential\"\n",
            "_________________________________________________________________\n",
            " Layer (type)                Output Shape              Param #   \n",
            "=================================================================\n",
            " embedding (Embedding)       (None, 20, 6)             600       \n",
            "                                                                 \n",
            "=================================================================\n",
            "Total params: 600\n",
            "Trainable params: 600\n",
            "Non-trainable params: 0\n",
            "_________________________________________________________________\n"
          ]
        }
      ],
      "source": [
        "from tensorflow.keras.layers import Embedding\n",
        "model = tf.keras.Sequential()\n",
        "model.add(Embedding(input_dim=100, output_dim=6, input_length=20))\n",
        "model.summary()"
      ]
    },
    {
      "cell_type": "code",
      "execution_count": 16,
      "id": "63551e2b",
      "metadata": {
        "id": "63551e2b"
      },
      "outputs": [],
      "source": []
    },
    {
      "cell_type": "code",
      "execution_count": 16,
      "id": "e8676e8c",
      "metadata": {
        "id": "e8676e8c"
      },
      "outputs": [],
      "source": []
    },
    {
      "cell_type": "markdown",
      "id": "6a06bc67",
      "metadata": {
        "id": "6a06bc67"
      },
      "source": [
        "## Building an RNN Model"
      ]
    },
    {
      "cell_type": "code",
      "execution_count": 17,
      "id": "c89602ab",
      "metadata": {
        "colab": {
          "base_uri": "https://localhost:8080/"
        },
        "id": "c89602ab",
        "outputId": "0ebb1d06-3542-4f12-cc4e-6633f528df22"
      },
      "outputs": [
        {
          "output_type": "stream",
          "name": "stdout",
          "text": [
            "Model: \"sequential_1\"\n",
            "_________________________________________________________________\n",
            " Layer (type)                Output Shape              Param #   \n",
            "=================================================================\n",
            " Embedding-layer (Embedding)  (None, None, 20)         1747300   \n",
            "                                                                 \n",
            " Bidir-LSTM (Bidirectional)  (None, 4)                 368       \n",
            "                                                                 \n",
            " Dense-1 (Dense)             (None, 4)                 20        \n",
            "                                                                 \n",
            " normalization (Normalizatio  (None, 4)                9         \n",
            " n)                                                              \n",
            "                                                                 \n",
            " activation (Activation)     (None, 4)                 0         \n",
            "                                                                 \n",
            " dropout (Dropout)           (None, 4)                 0         \n",
            "                                                                 \n",
            " Dense-2 (Dense)             (None, 1)                 5         \n",
            "                                                                 \n",
            "=================================================================\n",
            "Total params: 1,747,702\n",
            "Trainable params: 1,747,693\n",
            "Non-trainable params: 9\n",
            "_________________________________________________________________\n"
          ]
        }
      ],
      "source": [
        "vocab_size = len(counter) + 2\n",
        "embedding_dim = 20\n",
        "tf.random.set_seed(1)\n",
        "\n",
        "# build model\n",
        "from tensorflow.keras.layers import Embedding, LSTM, Dense, Bidirectional, Dropout, Normalization, Activation\n",
        "lstm_model = tf.keras.Sequential([\n",
        "    Embedding(input_dim=vocab_size, output_dim=embedding_dim, name=\"Embedding-layer\"),\n",
        "    \n",
        "    Bidirectional(LSTM(2), name=\"Bidir-LSTM\"),\n",
        "    \n",
        "    Dense(4, name=\"Dense-1\"),\n",
        "    Normalization(),\n",
        "    Activation(\"relu\"),\n",
        "    Dropout(0.5),\n",
        "    \n",
        "    Dense(1, name=\"Dense-2\"),\n",
        "])   \n",
        "    \n",
        "    \n",
        "lstm_model.summary()"
      ]
    },
    {
      "cell_type": "code",
      "execution_count": 17,
      "id": "e101ac35",
      "metadata": {
        "id": "e101ac35"
      },
      "outputs": [],
      "source": []
    },
    {
      "cell_type": "code",
      "execution_count": 17,
      "id": "7353f439",
      "metadata": {
        "id": "7353f439"
      },
      "outputs": [],
      "source": []
    },
    {
      "cell_type": "markdown",
      "id": "e42db484",
      "metadata": {
        "id": "e42db484"
      },
      "source": [
        "## Training and Evaluation"
      ]
    },
    {
      "cell_type": "code",
      "execution_count": 18,
      "id": "3e3f92cc",
      "metadata": {
        "id": "3e3f92cc"
      },
      "outputs": [],
      "source": [
        "lstm_model.compile(optimizer=tf.keras.optimizers.Adam(),\n",
        "             loss=tf.keras.losses.BinaryCrossentropy(from_logits=True),\n",
        "             metrics=[\"accuracy\"])"
      ]
    },
    {
      "cell_type": "code",
      "execution_count": 19,
      "id": "f274f916",
      "metadata": {
        "colab": {
          "base_uri": "https://localhost:8080/"
        },
        "id": "f274f916",
        "outputId": "3ce9d01e-e4ac-4ec5-c16d-3963aa1c7a4b"
      },
      "outputs": [
        {
          "output_type": "stream",
          "name": "stdout",
          "text": [
            "Epoch 1/10\n",
            "625/625 [==============================] - 118s 181ms/step - loss: 0.6341 - accuracy: 0.6108 - val_loss: 0.5659 - val_accuracy: 0.7748\n",
            "Epoch 2/10\n",
            "625/625 [==============================] - 39s 63ms/step - loss: 0.5402 - accuracy: 0.7297 - val_loss: 0.4830 - val_accuracy: 0.7876\n",
            "Epoch 3/10\n",
            "625/625 [==============================] - 40s 64ms/step - loss: 0.4438 - accuracy: 0.7905 - val_loss: 0.4480 - val_accuracy: 0.8050\n",
            "Epoch 4/10\n",
            "625/625 [==============================] - 39s 63ms/step - loss: 0.3909 - accuracy: 0.8210 - val_loss: 0.4494 - val_accuracy: 0.8196\n",
            "Epoch 5/10\n",
            "625/625 [==============================] - 39s 63ms/step - loss: 0.3600 - accuracy: 0.8367 - val_loss: 0.4477 - val_accuracy: 0.8150\n",
            "Epoch 6/10\n",
            "625/625 [==============================] - 39s 63ms/step - loss: 0.3420 - accuracy: 0.8393 - val_loss: 0.4715 - val_accuracy: 0.8168\n",
            "Epoch 7/10\n",
            "625/625 [==============================] - 40s 63ms/step - loss: 0.3148 - accuracy: 0.8514 - val_loss: 0.4579 - val_accuracy: 0.8216\n",
            "Epoch 8/10\n",
            "625/625 [==============================] - 40s 63ms/step - loss: 0.2918 - accuracy: 0.8608 - val_loss: 0.4703 - val_accuracy: 0.8216\n",
            "Epoch 9/10\n",
            "625/625 [==============================] - 39s 63ms/step - loss: 0.2898 - accuracy: 0.8575 - val_loss: 0.4834 - val_accuracy: 0.8064\n",
            "Epoch 10/10\n",
            "625/625 [==============================] - 40s 64ms/step - loss: 0.2808 - accuracy: 0.8612 - val_loss: 0.5039 - val_accuracy: 0.8182\n"
          ]
        },
        {
          "output_type": "execute_result",
          "data": {
            "text/plain": [
              "<keras.callbacks.History at 0x7feec5ac55e0>"
            ]
          },
          "metadata": {},
          "execution_count": 19
        }
      ],
      "source": [
        "lstm_model.fit(train_data, validation_data=valid_data, epochs=10)"
      ]
    },
    {
      "cell_type": "code",
      "execution_count": 20,
      "id": "9accf65e",
      "metadata": {
        "colab": {
          "base_uri": "https://localhost:8080/"
        },
        "id": "9accf65e",
        "outputId": "eeeb400d-563a-4f57-9581-a46796cac05f"
      },
      "outputs": [
        {
          "output_type": "stream",
          "name": "stdout",
          "text": [
            "782/782 [==============================] - 30s 39ms/step - loss: 0.4716 - accuracy: 0.8300\n"
          ]
        },
        {
          "output_type": "execute_result",
          "data": {
            "text/plain": [
              "[0.47158870100975037, 0.8299999833106995]"
            ]
          },
          "metadata": {},
          "execution_count": 20
        }
      ],
      "source": [
        "lstm_model.evaluate(test_data)"
      ]
    },
    {
      "cell_type": "code",
      "source": [],
      "metadata": {
        "id": "5Wh_i1ea4bVt"
      },
      "id": "5Wh_i1ea4bVt",
      "execution_count": 20,
      "outputs": []
    }
  ],
  "metadata": {
    "kernelspec": {
      "display_name": "Python 3",
      "language": "python",
      "name": "python3"
    },
    "language_info": {
      "codemirror_mode": {
        "name": "ipython",
        "version": 3
      },
      "file_extension": ".py",
      "mimetype": "text/x-python",
      "name": "python",
      "nbconvert_exporter": "python",
      "pygments_lexer": "ipython3",
      "version": "3.8.11"
    },
    "colab": {
      "provenance": []
    },
    "accelerator": "GPU",
    "gpuClass": "standard"
  },
  "nbformat": 4,
  "nbformat_minor": 5
}