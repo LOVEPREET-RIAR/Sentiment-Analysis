{
 "cells": [
  {
   "cell_type": "markdown",
   "id": "bb8207f6",
   "metadata": {},
   "source": [
    "# Applying Machine Learning Techniques to Sentiment Analysis"
   ]
  },
  {
   "cell_type": "code",
   "execution_count": null,
   "id": "f216c12c",
   "metadata": {},
   "outputs": [],
   "source": []
  },
  {
   "cell_type": "markdown",
   "id": "cd138e84",
   "metadata": {},
   "source": [
    "### Objective:\n",
    "\n",
    "*In this project, we will delve into a subfield of natural language processing (NLP) called sentiment analysis and learn how to use machine learning algorithms to classify documents based on their polarity: the attitude of the writer. In particular, we are going to work with a dataset of 50,000 movie reviews from the Internet Movie Database (IMDb) and build a predictor that can distinguish between positive and negative reviews.*"
   ]
  },
  {
   "cell_type": "code",
   "execution_count": null,
   "id": "ab7608cc",
   "metadata": {},
   "outputs": [],
   "source": []
  },
  {
   "cell_type": "markdown",
   "id": "0fea5150",
   "metadata": {},
   "source": [
    "### Overview:\n",
    "\n",
    "* Cleaning and Preparing Text Data\n",
    "* Building Feature Vectors From Text Documents\n",
    "* Training A Machine Learning Model to Classify Reviews\n",
    "* Working with Large Text Datasets Using Out-of-Core Learning"
   ]
  },
  {
   "cell_type": "code",
   "execution_count": null,
   "id": "7590f3bf",
   "metadata": {},
   "outputs": [],
   "source": []
  },
  {
   "cell_type": "markdown",
   "id": "84a2a6e8",
   "metadata": {},
   "source": [
    "## Cleaning and Preparing Text Data"
   ]
  },
  {
   "cell_type": "markdown",
   "id": "6cbae244",
   "metadata": {},
   "source": [
    "A compressed archive of the movie review dataset (84.1 MB) can be downloaded from http://ai.stanford.edu/~amaas/data/sentiment/ as a gzip-compressed tarball archive."
   ]
  },
  {
   "cell_type": "code",
   "execution_count": null,
   "id": "f1921775",
   "metadata": {},
   "outputs": [],
   "source": []
  },
  {
   "cell_type": "markdown",
   "id": "39c7e82c",
   "metadata": {},
   "source": [
    "### Data Preparation"
   ]
  },
  {
   "cell_type": "markdown",
   "id": "6f985dca",
   "metadata": {},
   "source": [
    "Lets go ahead, download the dataset from the above link, and preprocess into a more convenient format (Pandas DataFrame in our case)."
   ]
  },
  {
   "cell_type": "code",
   "execution_count": 1,
   "id": "5c8a9b06",
   "metadata": {},
   "outputs": [],
   "source": [
    "# Lets import necessary libraries first\n",
    "import numpy as np\n",
    "import pandas as pd\n",
    "import matplotlib.pyplot as plt\n",
    "%matplotlib inline"
   ]
  },
  {
   "cell_type": "code",
   "execution_count": 2,
   "id": "588b6f54",
   "metadata": {},
   "outputs": [],
   "source": [
    "# This script is just to ignore warnings\n",
    "import warnings\n",
    "warnings.filterwarnings('ignore')"
   ]
  },
  {
   "cell_type": "code",
   "execution_count": 3,
   "id": "c1d08b4f",
   "metadata": {},
   "outputs": [],
   "source": [
    "import os\n",
    "base_path = \"aclImdb\"\n",
    "reviews = {\"pos\":1, \"neg\":0}\n",
    "\n",
    "review_list = list()\n",
    "for s in (\"train\", \"test\"):\n",
    "    for l in (\"pos\", \"neg\"):\n",
    "        for r in sorted(os.listdir(os.path.join(base_path, s, l))):\n",
    "            with open(os.path.join(base_path, s, l, r), 'r', encoding='utf-8') as infile:\n",
    "                text = infile.read() \n",
    "                review_list.append((text, reviews[l]))\n",
    "               \n",
    "df = pd.DataFrame(review_list, columns=['review', 'sentiment'], index=None)"
   ]
  },
  {
   "cell_type": "code",
   "execution_count": null,
   "id": "c656eaba",
   "metadata": {},
   "outputs": [],
   "source": []
  },
  {
   "cell_type": "code",
   "execution_count": null,
   "id": "bd454486",
   "metadata": {},
   "outputs": [],
   "source": []
  },
  {
   "cell_type": "markdown",
   "id": "c533649c",
   "metadata": {},
   "source": [
    "Next, lets perform some basic data exploration techniques."
   ]
  },
  {
   "cell_type": "code",
   "execution_count": 4,
   "id": "80573797",
   "metadata": {},
   "outputs": [
    {
     "data": {
      "text/html": [
       "<div>\n",
       "<style scoped>\n",
       "    .dataframe tbody tr th:only-of-type {\n",
       "        vertical-align: middle;\n",
       "    }\n",
       "\n",
       "    .dataframe tbody tr th {\n",
       "        vertical-align: top;\n",
       "    }\n",
       "\n",
       "    .dataframe thead th {\n",
       "        text-align: right;\n",
       "    }\n",
       "</style>\n",
       "<table border=\"1\" class=\"dataframe\">\n",
       "  <thead>\n",
       "    <tr style=\"text-align: right;\">\n",
       "      <th></th>\n",
       "      <th>review</th>\n",
       "      <th>sentiment</th>\n",
       "    </tr>\n",
       "  </thead>\n",
       "  <tbody>\n",
       "    <tr>\n",
       "      <th>0</th>\n",
       "      <td>Bromwell High is a cartoon comedy. It ran at t...</td>\n",
       "      <td>1</td>\n",
       "    </tr>\n",
       "    <tr>\n",
       "      <th>1</th>\n",
       "      <td>Homelessness (or Houselessness as George Carli...</td>\n",
       "      <td>1</td>\n",
       "    </tr>\n",
       "    <tr>\n",
       "      <th>2</th>\n",
       "      <td>Brilliant over-acting by Lesley Ann Warren. Be...</td>\n",
       "      <td>1</td>\n",
       "    </tr>\n",
       "    <tr>\n",
       "      <th>3</th>\n",
       "      <td>This is easily the most underrated film inn th...</td>\n",
       "      <td>1</td>\n",
       "    </tr>\n",
       "    <tr>\n",
       "      <th>4</th>\n",
       "      <td>This is not the typical Mel Brooks film. It wa...</td>\n",
       "      <td>1</td>\n",
       "    </tr>\n",
       "  </tbody>\n",
       "</table>\n",
       "</div>"
      ],
      "text/plain": [
       "                                              review  sentiment\n",
       "0  Bromwell High is a cartoon comedy. It ran at t...          1\n",
       "1  Homelessness (or Houselessness as George Carli...          1\n",
       "2  Brilliant over-acting by Lesley Ann Warren. Be...          1\n",
       "3  This is easily the most underrated film inn th...          1\n",
       "4  This is not the typical Mel Brooks film. It wa...          1"
      ]
     },
     "execution_count": 4,
     "metadata": {},
     "output_type": "execute_result"
    }
   ],
   "source": [
    "df.head()"
   ]
  },
  {
   "cell_type": "code",
   "execution_count": 5,
   "id": "f7f16c67",
   "metadata": {},
   "outputs": [
    {
     "name": "stdout",
     "output_type": "stream",
     "text": [
      "<class 'pandas.core.frame.DataFrame'>\n",
      "RangeIndex: 50000 entries, 0 to 49999\n",
      "Data columns (total 2 columns):\n",
      " #   Column     Non-Null Count  Dtype \n",
      "---  ------     --------------  ----- \n",
      " 0   review     50000 non-null  object\n",
      " 1   sentiment  50000 non-null  int64 \n",
      "dtypes: int64(1), object(1)\n",
      "memory usage: 781.4+ KB\n"
     ]
    }
   ],
   "source": [
    "df.info()"
   ]
  },
  {
   "cell_type": "code",
   "execution_count": 6,
   "id": "c2d2bf16",
   "metadata": {},
   "outputs": [
    {
     "data": {
      "text/plain": [
       "(50000, 2)"
      ]
     },
     "execution_count": 6,
     "metadata": {},
     "output_type": "execute_result"
    }
   ],
   "source": [
    "df.shape"
   ]
  },
  {
   "cell_type": "code",
   "execution_count": null,
   "id": "b56c29ae",
   "metadata": {},
   "outputs": [],
   "source": []
  },
  {
   "cell_type": "code",
   "execution_count": null,
   "id": "5786bca5",
   "metadata": {},
   "outputs": [],
   "source": []
  },
  {
   "cell_type": "markdown",
   "id": "35395e94",
   "metadata": {},
   "source": [
    "Now, lets shuffle the dataframe and store it into a csv file for our own convenience."
   ]
  },
  {
   "cell_type": "code",
   "execution_count": 7,
   "id": "d0d62795",
   "metadata": {},
   "outputs": [
    {
     "data": {
      "text/html": [
       "<div>\n",
       "<style scoped>\n",
       "    .dataframe tbody tr th:only-of-type {\n",
       "        vertical-align: middle;\n",
       "    }\n",
       "\n",
       "    .dataframe tbody tr th {\n",
       "        vertical-align: top;\n",
       "    }\n",
       "\n",
       "    .dataframe thead th {\n",
       "        text-align: right;\n",
       "    }\n",
       "</style>\n",
       "<table border=\"1\" class=\"dataframe\">\n",
       "  <thead>\n",
       "    <tr style=\"text-align: right;\">\n",
       "      <th></th>\n",
       "      <th>review</th>\n",
       "      <th>sentiment</th>\n",
       "    </tr>\n",
       "  </thead>\n",
       "  <tbody>\n",
       "    <tr>\n",
       "      <th>11841</th>\n",
       "      <td>Often tagged as a comedy, The Man In The White...</td>\n",
       "      <td>1</td>\n",
       "    </tr>\n",
       "    <tr>\n",
       "      <th>19602</th>\n",
       "      <td>After Chaplin made one of his best films: Doug...</td>\n",
       "      <td>0</td>\n",
       "    </tr>\n",
       "    <tr>\n",
       "      <th>45519</th>\n",
       "      <td>I think the movie was one sided I watched it r...</td>\n",
       "      <td>0</td>\n",
       "    </tr>\n",
       "    <tr>\n",
       "      <th>25747</th>\n",
       "      <td>I have fond memories of watching this visually...</td>\n",
       "      <td>1</td>\n",
       "    </tr>\n",
       "    <tr>\n",
       "      <th>42642</th>\n",
       "      <td>This episode had potential. The basic premise ...</td>\n",
       "      <td>0</td>\n",
       "    </tr>\n",
       "  </tbody>\n",
       "</table>\n",
       "</div>"
      ],
      "text/plain": [
       "                                                  review  sentiment\n",
       "11841  Often tagged as a comedy, The Man In The White...          1\n",
       "19602  After Chaplin made one of his best films: Doug...          0\n",
       "45519  I think the movie was one sided I watched it r...          0\n",
       "25747  I have fond memories of watching this visually...          1\n",
       "42642  This episode had potential. The basic premise ...          0"
      ]
     },
     "execution_count": 7,
     "metadata": {},
     "output_type": "execute_result"
    }
   ],
   "source": [
    "np.random.seed(0)\n",
    "df = df.reindex(np.random.permutation(df.index))\n",
    "df.head()"
   ]
  },
  {
   "cell_type": "code",
   "execution_count": 8,
   "id": "3db76f9c",
   "metadata": {},
   "outputs": [
    {
     "data": {
      "text/html": [
       "<div>\n",
       "<style scoped>\n",
       "    .dataframe tbody tr th:only-of-type {\n",
       "        vertical-align: middle;\n",
       "    }\n",
       "\n",
       "    .dataframe tbody tr th {\n",
       "        vertical-align: top;\n",
       "    }\n",
       "\n",
       "    .dataframe thead th {\n",
       "        text-align: right;\n",
       "    }\n",
       "</style>\n",
       "<table border=\"1\" class=\"dataframe\">\n",
       "  <thead>\n",
       "    <tr style=\"text-align: right;\">\n",
       "      <th></th>\n",
       "      <th>review</th>\n",
       "      <th>sentiment</th>\n",
       "    </tr>\n",
       "  </thead>\n",
       "  <tbody>\n",
       "    <tr>\n",
       "      <th>0</th>\n",
       "      <td>Often tagged as a comedy, The Man In The White...</td>\n",
       "      <td>1</td>\n",
       "    </tr>\n",
       "    <tr>\n",
       "      <th>1</th>\n",
       "      <td>After Chaplin made one of his best films: Doug...</td>\n",
       "      <td>0</td>\n",
       "    </tr>\n",
       "    <tr>\n",
       "      <th>2</th>\n",
       "      <td>I think the movie was one sided I watched it r...</td>\n",
       "      <td>0</td>\n",
       "    </tr>\n",
       "    <tr>\n",
       "      <th>3</th>\n",
       "      <td>I have fond memories of watching this visually...</td>\n",
       "      <td>1</td>\n",
       "    </tr>\n",
       "    <tr>\n",
       "      <th>4</th>\n",
       "      <td>This episode had potential. The basic premise ...</td>\n",
       "      <td>0</td>\n",
       "    </tr>\n",
       "  </tbody>\n",
       "</table>\n",
       "</div>"
      ],
      "text/plain": [
       "                                              review  sentiment\n",
       "0  Often tagged as a comedy, The Man In The White...          1\n",
       "1  After Chaplin made one of his best films: Doug...          0\n",
       "2  I think the movie was one sided I watched it r...          0\n",
       "3  I have fond memories of watching this visually...          1\n",
       "4  This episode had potential. The basic premise ...          0"
      ]
     },
     "execution_count": 8,
     "metadata": {},
     "output_type": "execute_result"
    }
   ],
   "source": [
    "df = df.reset_index(drop=True)\n",
    "df.head()"
   ]
  },
  {
   "cell_type": "code",
   "execution_count": 9,
   "id": "52658f1e",
   "metadata": {},
   "outputs": [],
   "source": [
    "df.to_csv(\"movie_data.csv\", index=False, encoding='utf-8')"
   ]
  },
  {
   "cell_type": "code",
   "execution_count": null,
   "id": "e033c068",
   "metadata": {},
   "outputs": [],
   "source": []
  },
  {
   "cell_type": "code",
   "execution_count": null,
   "id": "7e37e825",
   "metadata": {},
   "outputs": [],
   "source": []
  },
  {
   "cell_type": "markdown",
   "id": "5da133d5",
   "metadata": {},
   "source": [
    "### Cleaning Text Data"
   ]
  },
  {
   "cell_type": "markdown",
   "id": "d9e04106",
   "metadata": {},
   "source": [
    "Most of the reviews might contain unwanted characters such as '/', ';', ')', and so on which won't provide any useful imformation to help discriminate distinct reviews. Therefore, lets go ahead and remove them."
   ]
  },
  {
   "cell_type": "code",
   "execution_count": 10,
   "id": "bd1bfb14",
   "metadata": {},
   "outputs": [],
   "source": [
    "import re\n",
    "\n",
    "def preprocessor(text):\n",
    "    text = re.sub(\"<[^*]>\", \"\", text)\n",
    "    emoticons = re.findall(\"(?::|;|=)(?:)?(?:\\)|\\(|D|P)\",text)\n",
    "    text = re.sub(\"[\\W]+\", \" \", text.lower()) \n",
    "    return text + \" \".join(emoticons)"
   ]
  },
  {
   "cell_type": "code",
   "execution_count": 11,
   "id": "933053f1",
   "metadata": {},
   "outputs": [],
   "source": [
    "df['review'] = df['review'].apply(preprocessor)"
   ]
  },
  {
   "cell_type": "code",
   "execution_count": null,
   "id": "84b57109",
   "metadata": {},
   "outputs": [],
   "source": []
  },
  {
   "cell_type": "code",
   "execution_count": null,
   "id": "b519c31f",
   "metadata": {},
   "outputs": [],
   "source": []
  },
  {
   "cell_type": "markdown",
   "id": "5183b021",
   "metadata": {},
   "source": [
    "## Building Feature Vectors From Text Documents"
   ]
  },
  {
   "cell_type": "markdown",
   "id": "80fe283e",
   "metadata": {},
   "source": [
    "### Tokenization"
   ]
  },
  {
   "cell_type": "markdown",
   "id": "4c19c05b",
   "metadata": {},
   "source": [
    "One way of tokenization is to split the documents into individual words based on white spaces."
   ]
  },
  {
   "cell_type": "code",
   "execution_count": 12,
   "id": "3349896b",
   "metadata": {},
   "outputs": [],
   "source": [
    "def tokenizer(text):\n",
    "    return text.split()"
   ]
  },
  {
   "cell_type": "code",
   "execution_count": 13,
   "id": "0d3c7944",
   "metadata": {},
   "outputs": [
    {
     "data": {
      "text/plain": [
       "['often',\n",
       " 'tagged',\n",
       " 'as',\n",
       " 'a',\n",
       " 'comedy',\n",
       " 'the',\n",
       " 'man',\n",
       " 'in',\n",
       " 'the',\n",
       " 'white',\n",
       " 'suit']"
      ]
     },
     "execution_count": 13,
     "metadata": {},
     "output_type": "execute_result"
    }
   ],
   "source": [
    "tokenizer(df.iloc[0,0][:50])"
   ]
  },
  {
   "cell_type": "code",
   "execution_count": null,
   "id": "b3b8abce",
   "metadata": {},
   "outputs": [],
   "source": []
  },
  {
   "cell_type": "markdown",
   "id": "32612a3d",
   "metadata": {},
   "source": [
    "Another useful technique is stemming in which words are transformed into their root form. This method will also narrow down the size of bag-of-words."
   ]
  },
  {
   "cell_type": "code",
   "execution_count": 14,
   "id": "5fce3ad7",
   "metadata": {},
   "outputs": [],
   "source": [
    "from nltk.stem.porter import PorterStemmer\n",
    "porter = PorterStemmer()\n",
    "\n",
    "def tokenizer_porter(text):\n",
    "    return [porter.stem(word) for word in text.split()]"
   ]
  },
  {
   "cell_type": "code",
   "execution_count": 15,
   "id": "98af297e",
   "metadata": {},
   "outputs": [
    {
     "data": {
      "text/plain": [
       "['often',\n",
       " 'tag',\n",
       " 'as',\n",
       " 'a',\n",
       " 'comedi',\n",
       " 'the',\n",
       " 'man',\n",
       " 'in',\n",
       " 'the',\n",
       " 'white',\n",
       " 'suit']"
      ]
     },
     "execution_count": 15,
     "metadata": {},
     "output_type": "execute_result"
    }
   ],
   "source": [
    "tokenizer_porter(df.iloc[0,0][:50])"
   ]
  },
  {
   "cell_type": "code",
   "execution_count": null,
   "id": "697d2029",
   "metadata": {},
   "outputs": [],
   "source": []
  },
  {
   "cell_type": "code",
   "execution_count": null,
   "id": "2fd800bd",
   "metadata": {},
   "outputs": [],
   "source": []
  },
  {
   "cell_type": "markdown",
   "id": "d11288e4",
   "metadata": {},
   "source": [
    "### Stopwords"
   ]
  },
  {
   "cell_type": "code",
   "execution_count": 16,
   "id": "ae78a129",
   "metadata": {},
   "outputs": [
    {
     "name": "stderr",
     "output_type": "stream",
     "text": [
      "[nltk_data] Downloading package stopwords to\n",
      "[nltk_data]     /Users/lovepreet/nltk_data...\n",
      "[nltk_data]   Package stopwords is already up-to-date!\n"
     ]
    },
    {
     "data": {
      "text/plain": [
       "True"
      ]
     },
     "execution_count": 16,
     "metadata": {},
     "output_type": "execute_result"
    }
   ],
   "source": [
    "import nltk\n",
    "nltk.download(\"stopwords\")"
   ]
  },
  {
   "cell_type": "code",
   "execution_count": 17,
   "id": "2efba4d0",
   "metadata": {},
   "outputs": [
    {
     "data": {
      "text/plain": [
       "['often', 'tagged', 'comedy', 'man', 'white', 'suit']"
      ]
     },
     "execution_count": 17,
     "metadata": {},
     "output_type": "execute_result"
    }
   ],
   "source": [
    "from nltk.corpus import stopwords\n",
    "stop = stopwords.words(\"english\")\n",
    "\n",
    "# An instance\n",
    "[w for w in df.iloc[0,0][:50].split() if w not in stop]"
   ]
  },
  {
   "cell_type": "code",
   "execution_count": null,
   "id": "10cc3119",
   "metadata": {},
   "outputs": [],
   "source": []
  },
  {
   "cell_type": "code",
   "execution_count": null,
   "id": "4e6572fe",
   "metadata": {},
   "outputs": [],
   "source": []
  },
  {
   "cell_type": "markdown",
   "id": "3c83aaaa",
   "metadata": {},
   "source": [
    "### Transformer"
   ]
  },
  {
   "cell_type": "markdown",
   "id": "62f1b254",
   "metadata": {},
   "source": [
    "We can use term-frequency or term-frequency-inverse -document-frequency techniques to build our bag-of-words model. Lets use sklearn for our convenience."
   ]
  },
  {
   "cell_type": "code",
   "execution_count": 18,
   "id": "cfb6c7ac",
   "metadata": {},
   "outputs": [],
   "source": [
    "from sklearn.feature_extraction.text import TfidfVectorizer\n",
    "tfidf_vec = TfidfVectorizer(use_idf=True, smooth_idf=True, norm='l2')"
   ]
  },
  {
   "cell_type": "code",
   "execution_count": 19,
   "id": "e7f024b3",
   "metadata": {},
   "outputs": [
    {
     "data": {
      "text/plain": [
       "['often',\n",
       " 'tagged',\n",
       " 'as',\n",
       " 'a',\n",
       " 'comedy',\n",
       " 'the',\n",
       " 'man',\n",
       " 'in',\n",
       " 'the',\n",
       " 'white',\n",
       " 'suit']"
      ]
     },
     "execution_count": 19,
     "metadata": {},
     "output_type": "execute_result"
    }
   ],
   "source": [
    "df.iloc[0,0][:50].split()"
   ]
  },
  {
   "cell_type": "code",
   "execution_count": 20,
   "id": "9f22cbc8",
   "metadata": {},
   "outputs": [
    {
     "data": {
      "text/plain": [
       "array([[0., 0., 0., 0., 1., 0., 0., 0., 0.],\n",
       "       [0., 0., 0., 0., 0., 0., 1., 0., 0.],\n",
       "       [1., 0., 0., 0., 0., 0., 0., 0., 0.],\n",
       "       [0., 0., 0., 0., 0., 0., 0., 0., 0.],\n",
       "       [0., 1., 0., 0., 0., 0., 0., 0., 0.],\n",
       "       [0., 0., 0., 0., 0., 0., 0., 1., 0.],\n",
       "       [0., 0., 0., 1., 0., 0., 0., 0., 0.],\n",
       "       [0., 0., 1., 0., 0., 0., 0., 0., 0.],\n",
       "       [0., 0., 0., 0., 0., 0., 0., 1., 0.],\n",
       "       [0., 0., 0., 0., 0., 0., 0., 0., 1.],\n",
       "       [0., 0., 0., 0., 0., 1., 0., 0., 0.]])"
      ]
     },
     "execution_count": 20,
     "metadata": {},
     "output_type": "execute_result"
    }
   ],
   "source": [
    "tfidf_vec.fit_transform(df.iloc[0,0][:50].split()).toarray()"
   ]
  },
  {
   "cell_type": "code",
   "execution_count": null,
   "id": "cf2777f9",
   "metadata": {},
   "outputs": [],
   "source": []
  },
  {
   "cell_type": "code",
   "execution_count": null,
   "id": "7194af08",
   "metadata": {},
   "outputs": [],
   "source": []
  },
  {
   "cell_type": "markdown",
   "id": "6e57738d",
   "metadata": {},
   "source": [
    "## Training A Machine Learning Model to Classify Reviews"
   ]
  },
  {
   "cell_type": "code",
   "execution_count": 21,
   "id": "76287428",
   "metadata": {},
   "outputs": [],
   "source": [
    "# First of all, lets split the data into train and test sets\n",
    "X = df['review']\n",
    "y = df['sentiment']\n",
    "\n",
    "from sklearn.model_selection import train_test_split\n",
    "X_train, X_test, y_train, y_test = train_test_split(X, y, test_size=0.3, random_state=42)"
   ]
  },
  {
   "cell_type": "code",
   "execution_count": 22,
   "id": "e38c4f39",
   "metadata": {},
   "outputs": [],
   "source": [
    "# Next, lets import the required libraries\n",
    "from sklearn.linear_model import SGDClassifier\n",
    "from sklearn.feature_extraction.text import TfidfVectorizer\n",
    "from sklearn.pipeline import Pipeline\n",
    "from sklearn.model_selection import GridSearchCV"
   ]
  },
  {
   "cell_type": "code",
   "execution_count": 23,
   "id": "8373a995",
   "metadata": {},
   "outputs": [],
   "source": [
    "# Now, lets build a data pipeline for efficieny \n",
    "lr_tfidf = Pipeline([\n",
    "    (\"vec\", TfidfVectorizer()),\n",
    "    (\"clf\", SGDClassifier())\n",
    "])"
   ]
  },
  {
   "cell_type": "code",
   "execution_count": null,
   "id": "cf574be4",
   "metadata": {},
   "outputs": [],
   "source": []
  },
  {
   "cell_type": "markdown",
   "id": "2dc3f4aa",
   "metadata": {},
   "source": [
    "Next, lets define the list of parameters we want to experiment with under the process of \"hypertuning parameters\" and then use grid search to find the optimal parameters for the model."
   ]
  },
  {
   "cell_type": "code",
   "execution_count": 24,
   "id": "c184437e",
   "metadata": {},
   "outputs": [],
   "source": [
    "params = {\n",
    "          \"vec__norm\":['l2'], \n",
    "          \"vec__use_idf\":[True],\n",
    "          \"vec__smooth_idf\":[True],\n",
    "          \"vec__stop_words\":[stop, None],\n",
    "          \"vec__tokenizer\":[tokenizer_porter, tokenizer],\n",
    "          \"clf__loss\":[\"log_loss\"],\n",
    "          \"clf__alpha\":[0.00001,0.001,0.1] # Experiment\n",
    "}"
   ]
  },
  {
   "cell_type": "code",
   "execution_count": 25,
   "id": "e460e54b",
   "metadata": {},
   "outputs": [],
   "source": [
    "gs_lr_tfidf = GridSearchCV(lr_tfidf, param_grid=params, scoring='accuracy', cv=3, n_jobs=-1)"
   ]
  },
  {
   "cell_type": "code",
   "execution_count": 26,
   "id": "d9472249",
   "metadata": {},
   "outputs": [
    {
     "data": {
      "text/html": [
       "<style>#sk-container-id-1 {color: black;background-color: white;}#sk-container-id-1 pre{padding: 0;}#sk-container-id-1 div.sk-toggleable {background-color: white;}#sk-container-id-1 label.sk-toggleable__label {cursor: pointer;display: block;width: 100%;margin-bottom: 0;padding: 0.3em;box-sizing: border-box;text-align: center;}#sk-container-id-1 label.sk-toggleable__label-arrow:before {content: \"▸\";float: left;margin-right: 0.25em;color: #696969;}#sk-container-id-1 label.sk-toggleable__label-arrow:hover:before {color: black;}#sk-container-id-1 div.sk-estimator:hover label.sk-toggleable__label-arrow:before {color: black;}#sk-container-id-1 div.sk-toggleable__content {max-height: 0;max-width: 0;overflow: hidden;text-align: left;background-color: #f0f8ff;}#sk-container-id-1 div.sk-toggleable__content pre {margin: 0.2em;color: black;border-radius: 0.25em;background-color: #f0f8ff;}#sk-container-id-1 input.sk-toggleable__control:checked~div.sk-toggleable__content {max-height: 200px;max-width: 100%;overflow: auto;}#sk-container-id-1 input.sk-toggleable__control:checked~label.sk-toggleable__label-arrow:before {content: \"▾\";}#sk-container-id-1 div.sk-estimator input.sk-toggleable__control:checked~label.sk-toggleable__label {background-color: #d4ebff;}#sk-container-id-1 div.sk-label input.sk-toggleable__control:checked~label.sk-toggleable__label {background-color: #d4ebff;}#sk-container-id-1 input.sk-hidden--visually {border: 0;clip: rect(1px 1px 1px 1px);clip: rect(1px, 1px, 1px, 1px);height: 1px;margin: -1px;overflow: hidden;padding: 0;position: absolute;width: 1px;}#sk-container-id-1 div.sk-estimator {font-family: monospace;background-color: #f0f8ff;border: 1px dotted black;border-radius: 0.25em;box-sizing: border-box;margin-bottom: 0.5em;}#sk-container-id-1 div.sk-estimator:hover {background-color: #d4ebff;}#sk-container-id-1 div.sk-parallel-item::after {content: \"\";width: 100%;border-bottom: 1px solid gray;flex-grow: 1;}#sk-container-id-1 div.sk-label:hover label.sk-toggleable__label {background-color: #d4ebff;}#sk-container-id-1 div.sk-serial::before {content: \"\";position: absolute;border-left: 1px solid gray;box-sizing: border-box;top: 0;bottom: 0;left: 50%;z-index: 0;}#sk-container-id-1 div.sk-serial {display: flex;flex-direction: column;align-items: center;background-color: white;padding-right: 0.2em;padding-left: 0.2em;position: relative;}#sk-container-id-1 div.sk-item {position: relative;z-index: 1;}#sk-container-id-1 div.sk-parallel {display: flex;align-items: stretch;justify-content: center;background-color: white;position: relative;}#sk-container-id-1 div.sk-item::before, #sk-container-id-1 div.sk-parallel-item::before {content: \"\";position: absolute;border-left: 1px solid gray;box-sizing: border-box;top: 0;bottom: 0;left: 50%;z-index: -1;}#sk-container-id-1 div.sk-parallel-item {display: flex;flex-direction: column;z-index: 1;position: relative;background-color: white;}#sk-container-id-1 div.sk-parallel-item:first-child::after {align-self: flex-end;width: 50%;}#sk-container-id-1 div.sk-parallel-item:last-child::after {align-self: flex-start;width: 50%;}#sk-container-id-1 div.sk-parallel-item:only-child::after {width: 0;}#sk-container-id-1 div.sk-dashed-wrapped {border: 1px dashed gray;margin: 0 0.4em 0.5em 0.4em;box-sizing: border-box;padding-bottom: 0.4em;background-color: white;}#sk-container-id-1 div.sk-label label {font-family: monospace;font-weight: bold;display: inline-block;line-height: 1.2em;}#sk-container-id-1 div.sk-label-container {text-align: center;}#sk-container-id-1 div.sk-container {/* jupyter's `normalize.less` sets `[hidden] { display: none; }` but bootstrap.min.css set `[hidden] { display: none !important; }` so we also need the `!important` here to be able to override the default hidden behavior on the sphinx rendered scikit-learn.org. See: https://github.com/scikit-learn/scikit-learn/issues/21755 */display: inline-block !important;position: relative;}#sk-container-id-1 div.sk-text-repr-fallback {display: none;}</style><div id=\"sk-container-id-1\" class=\"sk-top-container\"><div class=\"sk-text-repr-fallback\"><pre>GridSearchCV(cv=3,\n",
       "             estimator=Pipeline(steps=[(&#x27;vec&#x27;, TfidfVectorizer()),\n",
       "                                       (&#x27;clf&#x27;, SGDClassifier())]),\n",
       "             n_jobs=-1,\n",
       "             param_grid={&#x27;clf__alpha&#x27;: [1e-05, 0.001, 0.1],\n",
       "                         &#x27;clf__loss&#x27;: [&#x27;log_loss&#x27;], &#x27;vec__norm&#x27;: [&#x27;l2&#x27;],\n",
       "                         &#x27;vec__smooth_idf&#x27;: [True],\n",
       "                         &#x27;vec__stop_words&#x27;: [[&#x27;i&#x27;, &#x27;me&#x27;, &#x27;my&#x27;, &#x27;myself&#x27;, &#x27;we&#x27;,\n",
       "                                              &#x27;our&#x27;, &#x27;ours&#x27;, &#x27;ourselves&#x27;, &#x27;you&#x27;,\n",
       "                                              &quot;you&#x27;re&quot;, &quot;you&#x27;ve&quot;, &quot;you&#x27;ll&quot;,\n",
       "                                              &quot;you&#x27;d&quot;, &#x27;your&#x27;, &#x27;yours&#x27;,\n",
       "                                              &#x27;yourself&#x27;, &#x27;yourselves&#x27;, &#x27;he&#x27;,\n",
       "                                              &#x27;him&#x27;, &#x27;his&#x27;, &#x27;himself&#x27;, &#x27;she&#x27;,\n",
       "                                              &quot;she&#x27;s&quot;, &#x27;her&#x27;, &#x27;hers&#x27;, &#x27;herself&#x27;,\n",
       "                                              &#x27;it&#x27;, &quot;it&#x27;s&quot;, &#x27;its&#x27;, &#x27;itself&#x27;, ...],\n",
       "                                             None],\n",
       "                         &#x27;vec__tokenizer&#x27;: [&lt;function tokenizer_porter at 0x1375773a0&gt;,\n",
       "                                            &lt;function tokenizer at 0x127181d30&gt;],\n",
       "                         &#x27;vec__use_idf&#x27;: [True]},\n",
       "             scoring=&#x27;accuracy&#x27;)</pre><b>In a Jupyter environment, please rerun this cell to show the HTML representation or trust the notebook. <br />On GitHub, the HTML representation is unable to render, please try loading this page with nbviewer.org.</b></div><div class=\"sk-container\" hidden><div class=\"sk-item sk-dashed-wrapped\"><div class=\"sk-label-container\"><div class=\"sk-label sk-toggleable\"><input class=\"sk-toggleable__control sk-hidden--visually\" id=\"sk-estimator-id-1\" type=\"checkbox\" ><label for=\"sk-estimator-id-1\" class=\"sk-toggleable__label sk-toggleable__label-arrow\">GridSearchCV</label><div class=\"sk-toggleable__content\"><pre>GridSearchCV(cv=3,\n",
       "             estimator=Pipeline(steps=[(&#x27;vec&#x27;, TfidfVectorizer()),\n",
       "                                       (&#x27;clf&#x27;, SGDClassifier())]),\n",
       "             n_jobs=-1,\n",
       "             param_grid={&#x27;clf__alpha&#x27;: [1e-05, 0.001, 0.1],\n",
       "                         &#x27;clf__loss&#x27;: [&#x27;log_loss&#x27;], &#x27;vec__norm&#x27;: [&#x27;l2&#x27;],\n",
       "                         &#x27;vec__smooth_idf&#x27;: [True],\n",
       "                         &#x27;vec__stop_words&#x27;: [[&#x27;i&#x27;, &#x27;me&#x27;, &#x27;my&#x27;, &#x27;myself&#x27;, &#x27;we&#x27;,\n",
       "                                              &#x27;our&#x27;, &#x27;ours&#x27;, &#x27;ourselves&#x27;, &#x27;you&#x27;,\n",
       "                                              &quot;you&#x27;re&quot;, &quot;you&#x27;ve&quot;, &quot;you&#x27;ll&quot;,\n",
       "                                              &quot;you&#x27;d&quot;, &#x27;your&#x27;, &#x27;yours&#x27;,\n",
       "                                              &#x27;yourself&#x27;, &#x27;yourselves&#x27;, &#x27;he&#x27;,\n",
       "                                              &#x27;him&#x27;, &#x27;his&#x27;, &#x27;himself&#x27;, &#x27;she&#x27;,\n",
       "                                              &quot;she&#x27;s&quot;, &#x27;her&#x27;, &#x27;hers&#x27;, &#x27;herself&#x27;,\n",
       "                                              &#x27;it&#x27;, &quot;it&#x27;s&quot;, &#x27;its&#x27;, &#x27;itself&#x27;, ...],\n",
       "                                             None],\n",
       "                         &#x27;vec__tokenizer&#x27;: [&lt;function tokenizer_porter at 0x1375773a0&gt;,\n",
       "                                            &lt;function tokenizer at 0x127181d30&gt;],\n",
       "                         &#x27;vec__use_idf&#x27;: [True]},\n",
       "             scoring=&#x27;accuracy&#x27;)</pre></div></div></div><div class=\"sk-parallel\"><div class=\"sk-parallel-item\"><div class=\"sk-item\"><div class=\"sk-label-container\"><div class=\"sk-label sk-toggleable\"><input class=\"sk-toggleable__control sk-hidden--visually\" id=\"sk-estimator-id-2\" type=\"checkbox\" ><label for=\"sk-estimator-id-2\" class=\"sk-toggleable__label sk-toggleable__label-arrow\">estimator: Pipeline</label><div class=\"sk-toggleable__content\"><pre>Pipeline(steps=[(&#x27;vec&#x27;, TfidfVectorizer()), (&#x27;clf&#x27;, SGDClassifier())])</pre></div></div></div><div class=\"sk-serial\"><div class=\"sk-item\"><div class=\"sk-serial\"><div class=\"sk-item\"><div class=\"sk-estimator sk-toggleable\"><input class=\"sk-toggleable__control sk-hidden--visually\" id=\"sk-estimator-id-3\" type=\"checkbox\" ><label for=\"sk-estimator-id-3\" class=\"sk-toggleable__label sk-toggleable__label-arrow\">TfidfVectorizer</label><div class=\"sk-toggleable__content\"><pre>TfidfVectorizer()</pre></div></div></div><div class=\"sk-item\"><div class=\"sk-estimator sk-toggleable\"><input class=\"sk-toggleable__control sk-hidden--visually\" id=\"sk-estimator-id-4\" type=\"checkbox\" ><label for=\"sk-estimator-id-4\" class=\"sk-toggleable__label sk-toggleable__label-arrow\">SGDClassifier</label><div class=\"sk-toggleable__content\"><pre>SGDClassifier()</pre></div></div></div></div></div></div></div></div></div></div></div></div>"
      ],
      "text/plain": [
       "GridSearchCV(cv=3,\n",
       "             estimator=Pipeline(steps=[('vec', TfidfVectorizer()),\n",
       "                                       ('clf', SGDClassifier())]),\n",
       "             n_jobs=-1,\n",
       "             param_grid={'clf__alpha': [1e-05, 0.001, 0.1],\n",
       "                         'clf__loss': ['log_loss'], 'vec__norm': ['l2'],\n",
       "                         'vec__smooth_idf': [True],\n",
       "                         'vec__stop_words': [['i', 'me', 'my', 'myself', 'we',\n",
       "                                              'our', 'ours', 'ourselves', 'you',\n",
       "                                              \"you're\", \"you've\", \"you'll\",\n",
       "                                              \"you'd\", 'your', 'yours',\n",
       "                                              'yourself', 'yourselves', 'he',\n",
       "                                              'him', 'his', 'himself', 'she',\n",
       "                                              \"she's\", 'her', 'hers', 'herself',\n",
       "                                              'it', \"it's\", 'its', 'itself', ...],\n",
       "                                             None],\n",
       "                         'vec__tokenizer': [<function tokenizer_porter at 0x1375773a0>,\n",
       "                                            <function tokenizer at 0x127181d30>],\n",
       "                         'vec__use_idf': [True]},\n",
       "             scoring='accuracy')"
      ]
     },
     "execution_count": 26,
     "metadata": {},
     "output_type": "execute_result"
    }
   ],
   "source": [
    "gs_lr_tfidf.fit(X_train, y_train)"
   ]
  },
  {
   "cell_type": "code",
   "execution_count": 27,
   "id": "741595ad",
   "metadata": {},
   "outputs": [
    {
     "data": {
      "text/plain": [
       "0.8959428349315169"
      ]
     },
     "execution_count": 27,
     "metadata": {},
     "output_type": "execute_result"
    }
   ],
   "source": [
    "gs_lr_tfidf.best_score_"
   ]
  },
  {
   "cell_type": "code",
   "execution_count": 28,
   "id": "d4d09c34",
   "metadata": {},
   "outputs": [
    {
     "data": {
      "text/plain": [
       "{'clf__alpha': 1e-05,\n",
       " 'clf__loss': 'log_loss',\n",
       " 'vec__norm': 'l2',\n",
       " 'vec__smooth_idf': True,\n",
       " 'vec__stop_words': ['i',\n",
       "  'me',\n",
       "  'my',\n",
       "  'myself',\n",
       "  'we',\n",
       "  'our',\n",
       "  'ours',\n",
       "  'ourselves',\n",
       "  'you',\n",
       "  \"you're\",\n",
       "  \"you've\",\n",
       "  \"you'll\",\n",
       "  \"you'd\",\n",
       "  'your',\n",
       "  'yours',\n",
       "  'yourself',\n",
       "  'yourselves',\n",
       "  'he',\n",
       "  'him',\n",
       "  'his',\n",
       "  'himself',\n",
       "  'she',\n",
       "  \"she's\",\n",
       "  'her',\n",
       "  'hers',\n",
       "  'herself',\n",
       "  'it',\n",
       "  \"it's\",\n",
       "  'its',\n",
       "  'itself',\n",
       "  'they',\n",
       "  'them',\n",
       "  'their',\n",
       "  'theirs',\n",
       "  'themselves',\n",
       "  'what',\n",
       "  'which',\n",
       "  'who',\n",
       "  'whom',\n",
       "  'this',\n",
       "  'that',\n",
       "  \"that'll\",\n",
       "  'these',\n",
       "  'those',\n",
       "  'am',\n",
       "  'is',\n",
       "  'are',\n",
       "  'was',\n",
       "  'were',\n",
       "  'be',\n",
       "  'been',\n",
       "  'being',\n",
       "  'have',\n",
       "  'has',\n",
       "  'had',\n",
       "  'having',\n",
       "  'do',\n",
       "  'does',\n",
       "  'did',\n",
       "  'doing',\n",
       "  'a',\n",
       "  'an',\n",
       "  'the',\n",
       "  'and',\n",
       "  'but',\n",
       "  'if',\n",
       "  'or',\n",
       "  'because',\n",
       "  'as',\n",
       "  'until',\n",
       "  'while',\n",
       "  'of',\n",
       "  'at',\n",
       "  'by',\n",
       "  'for',\n",
       "  'with',\n",
       "  'about',\n",
       "  'against',\n",
       "  'between',\n",
       "  'into',\n",
       "  'through',\n",
       "  'during',\n",
       "  'before',\n",
       "  'after',\n",
       "  'above',\n",
       "  'below',\n",
       "  'to',\n",
       "  'from',\n",
       "  'up',\n",
       "  'down',\n",
       "  'in',\n",
       "  'out',\n",
       "  'on',\n",
       "  'off',\n",
       "  'over',\n",
       "  'under',\n",
       "  'again',\n",
       "  'further',\n",
       "  'then',\n",
       "  'once',\n",
       "  'here',\n",
       "  'there',\n",
       "  'when',\n",
       "  'where',\n",
       "  'why',\n",
       "  'how',\n",
       "  'all',\n",
       "  'any',\n",
       "  'both',\n",
       "  'each',\n",
       "  'few',\n",
       "  'more',\n",
       "  'most',\n",
       "  'other',\n",
       "  'some',\n",
       "  'such',\n",
       "  'no',\n",
       "  'nor',\n",
       "  'not',\n",
       "  'only',\n",
       "  'own',\n",
       "  'same',\n",
       "  'so',\n",
       "  'than',\n",
       "  'too',\n",
       "  'very',\n",
       "  's',\n",
       "  't',\n",
       "  'can',\n",
       "  'will',\n",
       "  'just',\n",
       "  'don',\n",
       "  \"don't\",\n",
       "  'should',\n",
       "  \"should've\",\n",
       "  'now',\n",
       "  'd',\n",
       "  'll',\n",
       "  'm',\n",
       "  'o',\n",
       "  're',\n",
       "  've',\n",
       "  'y',\n",
       "  'ain',\n",
       "  'aren',\n",
       "  \"aren't\",\n",
       "  'couldn',\n",
       "  \"couldn't\",\n",
       "  'didn',\n",
       "  \"didn't\",\n",
       "  'doesn',\n",
       "  \"doesn't\",\n",
       "  'hadn',\n",
       "  \"hadn't\",\n",
       "  'hasn',\n",
       "  \"hasn't\",\n",
       "  'haven',\n",
       "  \"haven't\",\n",
       "  'isn',\n",
       "  \"isn't\",\n",
       "  'ma',\n",
       "  'mightn',\n",
       "  \"mightn't\",\n",
       "  'mustn',\n",
       "  \"mustn't\",\n",
       "  'needn',\n",
       "  \"needn't\",\n",
       "  'shan',\n",
       "  \"shan't\",\n",
       "  'shouldn',\n",
       "  \"shouldn't\",\n",
       "  'wasn',\n",
       "  \"wasn't\",\n",
       "  'weren',\n",
       "  \"weren't\",\n",
       "  'won',\n",
       "  \"won't\",\n",
       "  'wouldn',\n",
       "  \"wouldn't\"],\n",
       " 'vec__tokenizer': <function __main__.tokenizer(text)>,\n",
       " 'vec__use_idf': True}"
      ]
     },
     "execution_count": 28,
     "metadata": {},
     "output_type": "execute_result"
    }
   ],
   "source": [
    "gs_lr_tfidf.best_params_"
   ]
  },
  {
   "cell_type": "code",
   "execution_count": null,
   "id": "a14713bf",
   "metadata": {},
   "outputs": [],
   "source": []
  },
  {
   "cell_type": "markdown",
   "id": "c00ae7bf",
   "metadata": {},
   "source": [
    "Finally, lets select the optimal model and evaluate its predictions."
   ]
  },
  {
   "cell_type": "code",
   "execution_count": 29,
   "id": "13c5850f",
   "metadata": {},
   "outputs": [
    {
     "name": "stdout",
     "output_type": "stream",
     "text": [
      "Predictor Accuracy on Training Data: 0.9626571428571429\n",
      "Predictor Accuracy on Test Data: 0.9008666666666667\n"
     ]
    }
   ],
   "source": [
    "gs_lr_tfidf = gs_lr_tfidf.best_estimator_\n",
    "\n",
    "train_pred = gs_lr_tfidf.predict(X_train)\n",
    "test_pred = gs_lr_tfidf.predict(X_test)\n",
    "\n",
    "from sklearn.metrics import accuracy_score\n",
    "train_acc = accuracy_score(y_train, train_pred)\n",
    "test_acc = accuracy_score(y_test, test_pred)\n",
    "\n",
    "print(f\"Predictor Accuracy on Training Data: {train_acc}\")\n",
    "print(f\"Predictor Accuracy on Test Data: {test_acc}\")"
   ]
  },
  {
   "cell_type": "code",
   "execution_count": 30,
   "id": "9be0ca42",
   "metadata": {},
   "outputs": [
    {
     "data": {
      "text/plain": [
       "array([[6646,  850],\n",
       "       [ 637, 6867]])"
      ]
     },
     "execution_count": 30,
     "metadata": {},
     "output_type": "execute_result"
    }
   ],
   "source": [
    "# Also, lets take a look at the confusion matrix of test set evaluation\n",
    "from sklearn.metrics import confusion_matrix\n",
    "confusion_matrix(y_test, test_pred)"
   ]
  },
  {
   "cell_type": "code",
   "execution_count": null,
   "id": "aeedab70",
   "metadata": {},
   "outputs": [],
   "source": []
  },
  {
   "cell_type": "code",
   "execution_count": null,
   "id": "77d3641e",
   "metadata": {},
   "outputs": [],
   "source": []
  },
  {
   "cell_type": "markdown",
   "id": "59310fa5",
   "metadata": {},
   "source": [
    "## Working with Large Text Datasets Using Out-of-Core Learning"
   ]
  },
  {
   "cell_type": "markdown",
   "id": "b9abfd6c",
   "metadata": {},
   "source": [
    "First, we will define a tokenizer function that cleans the unprocessed text data from the movie_data.csv file that we constructed at the beginning of this chapter and separate it into word tokens while removing stop-words:"
   ]
  },
  {
   "cell_type": "code",
   "execution_count": 31,
   "id": "d008409a",
   "metadata": {},
   "outputs": [],
   "source": [
    "def tokenizer(text):\n",
    "    text = re.sub(\"<[^*]>\", \"\", text)\n",
    "    emoticons = re.findall(\"(?::|;|=)(?:)?(?:\\)|\\(|D|P)\",text)\n",
    "    text = re.sub(\"[\\W]+\", \" \", text.lower()) \n",
    "    text = text + \" \".join(emoticons)\n",
    " \n",
    "    return [porter.stem(word) for word in text.split() if word not in stop]"
   ]
  },
  {
   "cell_type": "code",
   "execution_count": null,
   "id": "ce219dcf",
   "metadata": {},
   "outputs": [],
   "source": []
  },
  {
   "cell_type": "markdown",
   "id": "e1a7b2e7",
   "metadata": {},
   "source": [
    "Next, lets build a way to read batches of data at a time. "
   ]
  },
  {
   "cell_type": "code",
   "execution_count": 32,
   "id": "f0353041",
   "metadata": {},
   "outputs": [],
   "source": [
    "# Generator Function\n",
    "def stream_docs(path):\n",
    "    with open(path, 'r', encoding='utf-8') as csv:\n",
    "        next(csv)\n",
    "        for line in csv:\n",
    "            text, label = line[:-3], line[-2:-1]\n",
    "            yield text, label"
   ]
  },
  {
   "cell_type": "code",
   "execution_count": 33,
   "id": "330fb39b",
   "metadata": {},
   "outputs": [],
   "source": [
    "def get_mini_batch(doc_stream, size):\n",
    "    train, label = [],[]\n",
    "    \n",
    "    for i in range(size):\n",
    "        try:\n",
    "            x,y = next(doc_stream)\n",
    "            train.append(x)\n",
    "            label.append(y)\n",
    "        except StopIteration:\n",
    "            return None, None\n",
    "    \n",
    "    return train, label"
   ]
  },
  {
   "cell_type": "code",
   "execution_count": null,
   "id": "994711d5",
   "metadata": {},
   "outputs": [],
   "source": []
  },
  {
   "cell_type": "markdown",
   "id": "10a1a6dc",
   "metadata": {},
   "source": [
    "Finally, lets use Hashing Vector for text processing which is data independant and train our machine learning model using out-of-core learning technique."
   ]
  },
  {
   "cell_type": "code",
   "execution_count": 34,
   "id": "6fbe7abb",
   "metadata": {},
   "outputs": [],
   "source": [
    "from sklearn.feature_extraction.text import HashingVectorizer\n",
    "\n",
    "doc_stream = stream_docs(path='movie_data.csv')\n",
    "vec = HashingVectorizer(decode_error='ignore', n_features=2**21, preprocessor=None, tokenizer=tokenizer)\n",
    "clf = SGDClassifier(loss='log_loss', random_state=42)\n",
    "\n",
    "for _ in range(45):\n",
    "    X_train, y_train = get_mini_batch(doc_stream, 1000)\n",
    "    if not X_train:\n",
    "        break\n",
    "    X_train = vec.transform(X_train)\n",
    "    clf.partial_fit(X_train, y_train, classes=np.array(['0','1']))"
   ]
  },
  {
   "cell_type": "code",
   "execution_count": 35,
   "id": "c02b8926",
   "metadata": {},
   "outputs": [
    {
     "data": {
      "text/plain": [
       "0.871"
      ]
     },
     "execution_count": 35,
     "metadata": {},
     "output_type": "execute_result"
    }
   ],
   "source": [
    "# Model Evaluation\n",
    "X_test, y_test = get_mini_batch(doc_stream, 5000)\n",
    "X_test = vec.transform(X_test)\n",
    "\n",
    "clf.score(X_test, y_test)"
   ]
  },
  {
   "cell_type": "markdown",
   "id": "b6404bfc",
   "metadata": {},
   "source": [
    "As we can see the accuracy is 87% which is slightly below than what we got in the previous section. However, out-of-core learning is very memory efficient and the training time was just over a minute."
   ]
  },
  {
   "cell_type": "code",
   "execution_count": null,
   "id": "4d684114",
   "metadata": {},
   "outputs": [],
   "source": []
  }
 ],
 "metadata": {
  "kernelspec": {
   "display_name": "Python 3",
   "language": "python",
   "name": "python3"
  },
  "language_info": {
   "codemirror_mode": {
    "name": "ipython",
    "version": 3
   },
   "file_extension": ".py",
   "mimetype": "text/x-python",
   "name": "python",
   "nbconvert_exporter": "python",
   "pygments_lexer": "ipython3",
   "version": "3.8.11"
  }
 },
 "nbformat": 4,
 "nbformat_minor": 5
}
